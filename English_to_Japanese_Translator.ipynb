{
  "nbformat": 4,
  "nbformat_minor": 0,
  "metadata": {
    "colab": {
      "name": "English to Japanese Translator.ipynb",
      "provenance": [],
      "collapsed_sections": [],
      "machine_shape": "hm",
      "include_colab_link": true
    },
    "kernelspec": {
      "name": "python3",
      "display_name": "Python 3"
    },
    "accelerator": "GPU"
  },
  "cells": [
    {
      "cell_type": "markdown",
      "metadata": {
        "id": "view-in-github",
        "colab_type": "text"
      },
      "source": [
        "<a href=\"https://colab.research.google.com/github/Chubbyman2/Seq2Seq-Translator/blob/main/English_to_Japanese_Translator.ipynb\" target=\"_parent\"><img src=\"https://colab.research.google.com/assets/colab-badge.svg\" alt=\"Open In Colab\"/></a>"
      ]
    },
    {
      "cell_type": "markdown",
      "metadata": {
        "id": "5IK3nQ8lbg-g"
      },
      "source": [
        "A basic Seq2Seq model which utilizes a transformer architecture trained on a dataset of English-to-Japanese phrases."
      ]
    },
    {
      "cell_type": "code",
      "metadata": {
        "id": "TZFW8Z-p8nch"
      },
      "source": [
        "import os, sys\n",
        "\n",
        "from keras.models import Model\n",
        "from keras.layers import Embedding, Dense, GRU, Input, LSTM\n",
        "from keras.preprocessing.text import Tokenizer\n",
        "from keras.preprocessing.sequence import pad_sequences\n",
        "from keras.utils import to_categorical\n",
        "import numpy as np\n",
        "import matplotlib.pyplot as plt"
      ],
      "execution_count": 1,
      "outputs": []
    },
    {
      "cell_type": "code",
      "metadata": {
        "id": "tf70uetR9V0I"
      },
      "source": [
        "BATCH_SIZE = 64\n",
        "EPOCHS = 20\n",
        "NUM_SENTENCES = 30000\n",
        "MAX_SENTENCE_LENGTH = 50\n",
        "MAX_NUM_WORDS = 30000\n",
        "EMBEDDING_SIZE = 100"
      ],
      "execution_count": 2,
      "outputs": []
    },
    {
      "cell_type": "code",
      "metadata": {
        "id": "vXun7u8T9kIA",
        "outputId": "5c40dfd9-7618-4143-e2d6-8b201d533461",
        "colab": {
          "base_uri": "https://localhost:8080/"
        }
      },
      "source": [
        "from google.colab import drive\n",
        "drive.mount('/content/gdrive')"
      ],
      "execution_count": 3,
      "outputs": [
        {
          "output_type": "stream",
          "text": [
            "Mounted at /content/gdrive\n"
          ],
          "name": "stdout"
        }
      ]
    },
    {
      "cell_type": "code",
      "metadata": {
        "id": "0WYJxRE5-RIH",
        "outputId": "742726d6-52d8-4264-de49-3faaac026bfb",
        "colab": {
          "base_uri": "https://localhost:8080/"
        }
      },
      "source": [
        "input_sentences = []\n",
        "output_sentences = []\n",
        "output_sentences_inputs = []\n",
        "\n",
        "sentence_count = 0\n",
        "for line in open(r\"/content/gdrive/My Drive/jpn.txt\", encoding=\"utf-8\"):\n",
        "  sentence_count += 1\n",
        "\n",
        "  # We'll only train it on 30000 phrases\n",
        "  # Can be adjusted for overfitting\n",
        "  if sentence_count > NUM_SENTENCES:\n",
        "    break\n",
        "  \n",
        "  if \"\\t\" not in line:\n",
        "    continue\n",
        "\n",
        "  input_sentence, output, credits = line.rstrip().split(\"\\t\")\n",
        "\n",
        "  # We need two copies of the translated sentence\n",
        "  # One with the <EOS> token, and the other with <SOS> token\n",
        "  \n",
        "  output_sentence = output + \" <EOS>\"\n",
        "  output_sentence_input = \"<SOS> \" + output\n",
        "  \n",
        "  input_sentences.append(input_sentence)\n",
        "  output_sentences.append(output_sentence)\n",
        "  output_sentences_inputs.append(output_sentence_input)\n",
        "\n",
        "print(input_sentences[0:10])\n",
        "print(output_sentences[0:10])\n",
        "print(output_sentences_inputs[0:10])"
      ],
      "execution_count": 4,
      "outputs": [
        {
          "output_type": "stream",
          "text": [
            "['Go.', 'Go.', 'Hi.', 'Hi.', 'Hi.', 'Hi.', 'Run.', 'Run.', 'Who?', 'Wow!']\n",
            "['行け。 <EOS>', '行きなさい。 <EOS>', 'こんにちは。 <EOS>', 'もしもし。 <EOS>', 'やっほー。 <EOS>', 'こんにちは！ <EOS>', '走れ。 <EOS>', '走って！ <EOS>', '誰？ <EOS>', 'すごい！ <EOS>']\n",
            "['<SOS> 行け。', '<SOS> 行きなさい。', '<SOS> こんにちは。', '<SOS> もしもし。', '<SOS> やっほー。', '<SOS> こんにちは！', '<SOS> 走れ。', '<SOS> 走って！', '<SOS> 誰？', '<SOS> すごい！']\n"
          ],
          "name": "stdout"
        }
      ]
    },
    {
      "cell_type": "code",
      "metadata": {
        "id": "prXljqffB1Cy",
        "outputId": "6c8b42da-0e1e-42a5-f41c-de3a3d176eb7",
        "colab": {
          "base_uri": "https://localhost:8080/"
        }
      },
      "source": [
        "print(len(input_sentences))\n",
        "print(len(output_sentences))\n",
        "print(len(output_sentences_inputs))"
      ],
      "execution_count": 5,
      "outputs": [
        {
          "output_type": "stream",
          "text": [
            "30000\n",
            "30000\n",
            "30000\n"
          ],
          "name": "stdout"
        }
      ]
    },
    {
      "cell_type": "markdown",
      "metadata": {
        "id": "FygYNNI8CYum"
      },
      "source": [
        "**Tokenization and Padding**\n",
        "\n",
        "Tokenize the sentences, pad all of them to be the same length as the longest sentence."
      ]
    },
    {
      "cell_type": "code",
      "metadata": {
        "id": "1kdk7njZCNVi",
        "outputId": "1b718f96-a95a-4579-fe9f-0537891b4689",
        "colab": {
          "base_uri": "https://localhost:8080/"
        }
      },
      "source": [
        "# Tokenizer divides sentence into a list of words\n",
        "# Then converts words in list to integers\n",
        "input_tokenizer = Tokenizer(num_words = MAX_NUM_WORDS)\n",
        "input_tokenizer.fit_on_texts(input_sentences)\n",
        "input_integer_sequences = input_tokenizer.texts_to_sequences(input_sentences)\n",
        "\n",
        "word2idx_inputs = input_tokenizer.word_index\n",
        "print(f\"Total unique words in the input: {len(word2idx_inputs)}\")\n",
        "\n",
        "max_input_len = max(len(sentence) for sentence in input_integer_sequences)\n",
        "print(f\"Length of longest input sentence: {max_input_len}\")\n",
        "print(input_integer_sequences[0:10])"
      ],
      "execution_count": 6,
      "outputs": [
        {
          "output_type": "stream",
          "text": [
            "Total unique words in the input: 5742\n",
            "Length of longest input sentence: 9\n",
            "[[32], [32], [1055], [1055], [1055], [1055], [306], [306], [104], [1219]]\n"
          ],
          "name": "stdout"
        }
      ]
    },
    {
      "cell_type": "code",
      "metadata": {
        "id": "kw3AGNVExrjR",
        "outputId": "c58f55c6-8d31-45a4-a650-17bcbd69e622",
        "colab": {
          "base_uri": "https://localhost:8080/"
        }
      },
      "source": [
        "# Tokenize output sentences\n",
        "# You can see, on average, Japanese sentences are longer and contain more words\n",
        "output_tokenizer = Tokenizer(num_words = MAX_NUM_WORDS, filters=\"\")\n",
        "output_tokenizer.fit_on_texts(output_sentences + output_sentences_inputs)\n",
        "output_integer_sequences = output_tokenizer.texts_to_sequences(output_sentences)\n",
        "output_input_integer_sequences = output_tokenizer.texts_to_sequences(output_sentences_inputs)\n",
        "\n",
        "word2idx_outputs = output_tokenizer.word_index\n",
        "print(f\"Total unique words in the output: {len(word2idx_outputs)}\")\n",
        "\n",
        "num_word_in_output = len(word2idx_outputs) + 1\n",
        "max_output_len = max(len(sentence) for sentence in output_integer_sequences)\n",
        "print(f\"Length of longest output sentence: {max_output_len}\")"
      ],
      "execution_count": 7,
      "outputs": [
        {
          "output_type": "stream",
          "text": [
            "Total unique words in the output: 24629\n",
            "Length of longest output sentence: 6\n"
          ],
          "name": "stdout"
        }
      ]
    },
    {
      "cell_type": "code",
      "metadata": {
        "id": "F3FkmC5MDeP_",
        "outputId": "4cb91d90-bb31-4fea-f526-09ae553964f0",
        "colab": {
          "base_uri": "https://localhost:8080/"
        }
      },
      "source": [
        "# Pad the encoder input sentences for LSTM\n",
        "# LSTM requires fixed-length vectors\n",
        "encoder_input_sequences = pad_sequences(input_integer_sequences, maxlen = max_input_len)\n",
        "print(encoder_input_sequences.shape)\n",
        "\n",
        "# Max length input sentence is 8 words\n",
        "# Adds seven 0's to the one-word sentence\n",
        "print(encoder_input_sequences[10])\n",
        "print(input_sentences[10])"
      ],
      "execution_count": 8,
      "outputs": [
        {
          "output_type": "stream",
          "text": [
            "(30000, 9)\n",
            "[   0    0    0    0    0    0    0    0 1219]\n",
            "Wow!\n"
          ],
          "name": "stdout"
        }
      ]
    },
    {
      "cell_type": "code",
      "metadata": {
        "id": "i3EmgyabwHu0",
        "outputId": "d465a081-de2d-4c7a-ec8f-08fd67ba7792",
        "colab": {
          "base_uri": "https://localhost:8080/"
        }
      },
      "source": [
        "print(word2idx_inputs[\"wow\"])"
      ],
      "execution_count": 9,
      "outputs": [
        {
          "output_type": "stream",
          "text": [
            "1219\n"
          ],
          "name": "stdout"
        }
      ]
    },
    {
      "cell_type": "code",
      "metadata": {
        "id": "PIuYiEN5xLag",
        "outputId": "6ab44df2-a748-49f2-d395-a0e56fcb7e45",
        "colab": {
          "base_uri": "https://localhost:8080/"
        }
      },
      "source": [
        "# Pad the decoder inputs\n",
        "decoder_input_sequences = pad_sequences(output_input_integer_sequences, \n",
        "                                        maxlen = max_output_len,\n",
        "                                        padding = \"post\")\n",
        "print(decoder_input_sequences.shape)\n",
        "print(decoder_input_sequences[10])\n",
        "print(output_sentences_inputs[10])"
      ],
      "execution_count": 10,
      "outputs": [
        {
          "output_type": "stream",
          "text": [
            "(30000, 6)\n",
            "[   2 3835    0    0    0    0]\n",
            "<SOS> ワォ！\n"
          ],
          "name": "stdout"
        }
      ]
    },
    {
      "cell_type": "code",
      "metadata": {
        "id": "y3fRmCwqzOVY",
        "outputId": "39950889-726c-4167-f253-014c77f5b1b6",
        "colab": {
          "base_uri": "https://localhost:8080/"
        }
      },
      "source": [
        "print(word2idx_outputs[\"<sos>\"])\n",
        "print(word2idx_outputs[\"ワォ！\"])"
      ],
      "execution_count": 11,
      "outputs": [
        {
          "output_type": "stream",
          "text": [
            "2\n",
            "3835\n"
          ],
          "name": "stdout"
        }
      ]
    },
    {
      "cell_type": "markdown",
      "metadata": {
        "id": "Bbn1PKpm8JRq"
      },
      "source": [
        "Note that the encoder sequences are padded at the front because the output is based on the words at the end of a sentence.\n",
        "\n",
        "For the decoder, processing starts at the start, so the end is padded."
      ]
    },
    {
      "cell_type": "markdown",
      "metadata": {
        "id": "0VGVIrv61Zzo"
      },
      "source": [
        "**Word Embeddings**\n",
        "\n",
        "Instead of using integer representation, word embeddings use vectors to represent words.\n",
        "\n",
        "Word embeddings capture not just the uniqueness of each word, but also its relationship with other words.\n",
        "\n",
        "This model uses GloVe word embeddings for English sentences and custom word embeddings for the Japanese sentences."
      ]
    },
    {
      "cell_type": "code",
      "metadata": {
        "id": "KGhhXrk40dAj"
      },
      "source": [
        "# The process is similar to creating a dictionary of words for integer representation\n",
        "# but you use vectors instead of integers\n",
        "\n",
        "from numpy import array, asarray, zeros\n",
        "\n",
        "embeddings_dictionary = dict()\n",
        "\n",
        "glove = open(r\"/content/gdrive/My Drive/glove.6B.100d.txt\", encoding=\"utf-8\")\n",
        "\n",
        "for line in glove:\n",
        "  records = line.split()\n",
        "  word = records[0]\n",
        "  vector_dims = asarray(records[1:], dtype=\"float32\")\n",
        "  embeddings_dictionary[word] = vector_dims\n",
        "\n",
        "glove.close()"
      ],
      "execution_count": 12,
      "outputs": []
    },
    {
      "cell_type": "code",
      "metadata": {
        "id": "8nGoex3z3Odn",
        "outputId": "d23b2b1b-b3f1-42e1-e2e7-48ad0bc6d1f6",
        "colab": {
          "base_uri": "https://localhost:8080/"
        }
      },
      "source": [
        "num_words = min(MAX_NUM_WORDS, len(word2idx_inputs) + 1)\n",
        "embedding_matrix = zeros((num_words, EMBEDDING_SIZE))\n",
        "\n",
        "for word, idx in word2idx_inputs.items():\n",
        "  embedding_vector = embeddings_dictionary.get(word)\n",
        "  if embedding_vector is not None:\n",
        "    embedding_matrix[idx] = embedding_vector\n",
        "\n",
        "print(embeddings_dictionary[\"wow\"])"
      ],
      "execution_count": 13,
      "outputs": [
        {
          "output_type": "stream",
          "text": [
            "[ 3.3134e-02  3.9436e-01  7.1448e-01 -1.1337e+00 -7.2332e-01 -3.8481e-01\n",
            "  5.0780e-01 -1.4907e-01  6.6017e-01 -1.0201e-01  9.6231e-01  1.1387e-03\n",
            " -1.3263e-01  4.5797e-02  2.7135e-01 -3.2550e-01 -3.9210e-01  6.5267e-01\n",
            " -2.4488e-01  6.0425e-01  4.6606e-01  2.0726e-01 -4.5639e-01 -4.7955e-01\n",
            "  3.5442e-01  1.3614e+00  6.4953e-02  5.8670e-01  3.8000e-01 -6.9888e-01\n",
            " -9.8310e-03  4.4655e-01  3.2409e-01  7.0773e-01 -1.6529e-01  1.4208e-01\n",
            " -1.0592e-01  3.4966e-01  4.9768e-01 -1.3657e+00  5.9729e-02  8.9261e-01\n",
            " -5.1973e-02 -2.3988e-01 -2.6148e-01 -4.6569e-01  3.8102e-01 -2.2734e-02\n",
            "  6.7690e-02 -5.2129e-01 -1.0081e+00  3.2135e-01  1.3263e-02 -3.2060e-01\n",
            " -1.2772e+00 -9.8548e-01  5.2983e-01 -6.2298e-02  2.2495e-01 -2.6118e-03\n",
            " -6.1793e-01  9.9997e-01 -1.0703e+00  2.0964e-01  2.2643e-01  4.3646e-01\n",
            "  3.7288e-01  4.4264e-01  1.9080e-01  2.0068e-01  9.2300e-01 -4.9012e-02\n",
            " -1.2524e-01 -4.6946e-01  4.9879e-02  7.7502e-01  7.5118e-01 -6.8137e-01\n",
            "  6.9687e-01 -7.6334e-01  1.3828e-01 -7.7210e-01  3.6450e-01 -2.6051e-01\n",
            " -9.7434e-01 -1.7740e-01 -5.8300e-01 -6.4827e-01 -5.0155e-01  5.8098e-01\n",
            "  1.7168e-01  5.2574e-01  4.9286e-02 -3.7198e-01  5.5128e-01 -9.4764e-01\n",
            "  1.3750e-01 -3.7998e-01  1.8960e-01  7.9696e-01]\n"
          ],
          "name": "stdout"
        }
      ]
    },
    {
      "cell_type": "markdown",
      "metadata": {
        "id": "5ccASbFc8Cl6"
      },
      "source": [
        "Note that the rows in the embedding matrix represent the corresponding word embeddings from the GloVe word embedding dictionary.\n",
        "\n",
        "\n",
        "The word embedding matrix will be used to create the model's embedding layer."
      ]
    },
    {
      "cell_type": "code",
      "metadata": {
        "id": "Qf33yyUb36Xg",
        "outputId": "3049e559-9671-4e69-c4ac-45ea43589c7e",
        "colab": {
          "base_uri": "https://localhost:8080/"
        }
      },
      "source": [
        "print(embedding_matrix[word2idx_inputs[\"wow\"]])"
      ],
      "execution_count": 14,
      "outputs": [
        {
          "output_type": "stream",
          "text": [
            "[ 3.31339985e-02  3.94360006e-01  7.14479983e-01 -1.13370001e+00\n",
            " -7.23320007e-01 -3.84810001e-01  5.07799983e-01 -1.49069995e-01\n",
            "  6.60170019e-01 -1.02009997e-01  9.62310016e-01  1.13870006e-03\n",
            " -1.32630005e-01  4.57970016e-02  2.71349996e-01 -3.25500011e-01\n",
            " -3.92100006e-01  6.52670026e-01 -2.44880006e-01  6.04250014e-01\n",
            "  4.66060013e-01  2.07259998e-01 -4.56389993e-01 -4.79550004e-01\n",
            "  3.54420006e-01  1.36140001e+00  6.49529994e-02  5.86700022e-01\n",
            "  3.79999995e-01 -6.98880017e-01 -9.83100012e-03  4.46550012e-01\n",
            "  3.24090004e-01  7.07729995e-01 -1.65289998e-01  1.42079994e-01\n",
            " -1.05920002e-01  3.49660009e-01  4.97680008e-01 -1.36570001e+00\n",
            "  5.97289987e-02  8.92610013e-01 -5.19730002e-02 -2.39879996e-01\n",
            " -2.61480004e-01 -4.65689987e-01  3.81020010e-01 -2.27339994e-02\n",
            "  6.76899999e-02 -5.21290004e-01 -1.00810003e+00  3.21350008e-01\n",
            "  1.32630002e-02 -3.20600003e-01 -1.27719998e+00 -9.85480011e-01\n",
            "  5.29829979e-01 -6.22979999e-02  2.24950001e-01 -2.61180010e-03\n",
            " -6.17929995e-01  9.99970019e-01 -1.07029998e+00  2.09639996e-01\n",
            "  2.26429999e-01  4.36459988e-01  3.72880012e-01  4.42640007e-01\n",
            "  1.90799996e-01  2.00680003e-01  9.22999978e-01 -4.90120016e-02\n",
            " -1.25239998e-01 -4.69460011e-01  4.98789996e-02  7.75020003e-01\n",
            "  7.51179993e-01 -6.81370020e-01  6.96870029e-01 -7.63339996e-01\n",
            "  1.38280004e-01 -7.72099972e-01  3.64499986e-01 -2.60509998e-01\n",
            " -9.74340022e-01 -1.77399993e-01 -5.83000004e-01 -6.48270011e-01\n",
            " -5.01550019e-01  5.80980003e-01  1.71680003e-01  5.25740027e-01\n",
            "  4.92860004e-02 -3.71980011e-01  5.51280022e-01 -9.47640002e-01\n",
            "  1.37500003e-01 -3.79979998e-01  1.89600006e-01  7.96959996e-01]\n"
          ],
          "name": "stdout"
        }
      ]
    },
    {
      "cell_type": "markdown",
      "metadata": {
        "id": "4bNXFmHJ51TK"
      },
      "source": [
        "**The Model**"
      ]
    },
    {
      "cell_type": "code",
      "metadata": {
        "id": "iL-EQ0fK520g",
        "outputId": "a102bf66-fc31-41ea-8d02-6b34b2a4de10",
        "colab": {
          "base_uri": "https://localhost:8080/"
        }
      },
      "source": [
        "# Empty output array with correct shape\n",
        "# Shape: (num of inputs, length of output sentence, number of words in output)\n",
        "decoder_targets_one_hot = np.zeros((\n",
        "    len(input_sentences),\n",
        "    max_output_len,\n",
        "    num_word_in_output),\n",
        "    dtype=\"float32\")\n",
        "\n",
        "decoder_targets_one_hot.shape"
      ],
      "execution_count": 15,
      "outputs": [
        {
          "output_type": "execute_result",
          "data": {
            "text/plain": [
              "(30000, 6, 24630)"
            ]
          },
          "metadata": {
            "tags": []
          },
          "execution_count": 15
        }
      ]
    },
    {
      "cell_type": "code",
      "metadata": {
        "id": "JoQOhxY39Lde"
      },
      "source": [
        "decoder_output_sequences = pad_sequences(output_integer_sequences, maxlen=max_output_len, padding='post')\n",
        "for i, d in enumerate(decoder_output_sequences):\n",
        "  for t, word in enumerate(d):\n",
        "    decoder_targets_one_hot[i, t, word] = 1"
      ],
      "execution_count": 16,
      "outputs": []
    },
    {
      "cell_type": "code",
      "metadata": {
        "id": "At2PNWCN_hDZ"
      },
      "source": [
        "# Use the embedding matrix to create the embedding layer\n",
        "embedding_layer = Embedding(num_words, \n",
        "                            EMBEDDING_SIZE, \n",
        "                            weights=[embedding_matrix], \n",
        "                            input_length=max_input_len)"
      ],
      "execution_count": 17,
      "outputs": []
    },
    {
      "cell_type": "code",
      "metadata": {
        "id": "5k8W9DaY-h2V"
      },
      "source": [
        "# Encoder\n",
        "encoder_inputs_placeholder = Input(shape=(max_input_len, ))\n",
        "x = embedding_layer(encoder_inputs_placeholder)\n",
        "encoder = LSTM(256, return_state=True)\n",
        "\n",
        "encoder_outputs, h, c = encoder(x)\n",
        "encoder_states = [h, c]"
      ],
      "execution_count": 18,
      "outputs": []
    },
    {
      "cell_type": "code",
      "metadata": {
        "id": "8mP62ogi-2zv"
      },
      "source": [
        "# Decoder\n",
        "decoder_inputs_placeholder = Input(shape=(max_output_len, ))\n",
        "\n",
        "decoder_embedding = Embedding(num_word_in_output, 256)\n",
        "decoder_inputs_x = decoder_embedding(decoder_inputs_placeholder)\n",
        "\n",
        "decoder_lstm = LSTM(256, return_sequences=True, return_state=True)\n",
        "decoder_outputs, _, _ = decoder_lstm(decoder_inputs_x, initial_state=encoder_states)"
      ],
      "execution_count": 19,
      "outputs": []
    },
    {
      "cell_type": "code",
      "metadata": {
        "id": "Iv_Zz2cv_6jH"
      },
      "source": [
        "# Final Dense layer predicts decoder outputs\n",
        "decoder_dense = Dense(num_word_in_output, activation=\"softmax\")\n",
        "decoder_outputs = decoder_dense(decoder_outputs)"
      ],
      "execution_count": 20,
      "outputs": []
    },
    {
      "cell_type": "code",
      "metadata": {
        "id": "TrNgQG4NAHFG"
      },
      "source": [
        "# Compile\n",
        "model = Model([encoder_inputs_placeholder, decoder_inputs_placeholder], decoder_outputs)\n",
        "\n",
        "model.compile(optimizer=\"rmsprop\", loss=\"categorical_crossentropy\", metrics=[\"accuracy\"])"
      ],
      "execution_count": 21,
      "outputs": []
    },
    {
      "cell_type": "code",
      "metadata": {
        "id": "-a4qj0q5AgW-",
        "outputId": "aa7a6ca2-0659-45e8-9871-c1917777a6b9",
        "colab": {
          "base_uri": "https://localhost:8080/"
        }
      },
      "source": [
        "# Fit\n",
        "translator = model.fit(\n",
        "    [encoder_input_sequences, decoder_input_sequences],\n",
        "    decoder_targets_one_hot,\n",
        "    batch_size=BATCH_SIZE,\n",
        "    epochs=EPOCHS,\n",
        "    validation_split=0.1\n",
        ")"
      ],
      "execution_count": 22,
      "outputs": [
        {
          "output_type": "stream",
          "text": [
            "Epoch 1/20\n",
            "422/422 [==============================] - 27s 64ms/step - loss: 1.8411 - accuracy: 0.8186 - val_loss: 1.6973 - val_accuracy: 0.8332\n",
            "Epoch 2/20\n",
            "422/422 [==============================] - 26s 63ms/step - loss: 1.6858 - accuracy: 0.8333 - val_loss: 1.7069 - val_accuracy: 0.8332\n",
            "Epoch 3/20\n",
            "422/422 [==============================] - 26s 63ms/step - loss: 1.6755 - accuracy: 0.8333 - val_loss: 1.7190 - val_accuracy: 0.8332\n",
            "Epoch 4/20\n",
            "422/422 [==============================] - 26s 63ms/step - loss: 1.6572 - accuracy: 0.8333 - val_loss: 1.7354 - val_accuracy: 0.8332\n",
            "Epoch 5/20\n",
            "422/422 [==============================] - 27s 63ms/step - loss: 1.6422 - accuracy: 0.8334 - val_loss: 1.7488 - val_accuracy: 0.8332\n",
            "Epoch 6/20\n",
            "422/422 [==============================] - 26s 62ms/step - loss: 1.6238 - accuracy: 0.8336 - val_loss: 1.7503 - val_accuracy: 0.8333\n",
            "Epoch 7/20\n",
            "422/422 [==============================] - 26s 63ms/step - loss: 1.6091 - accuracy: 0.8338 - val_loss: 1.7655 - val_accuracy: 0.8332\n",
            "Epoch 8/20\n",
            "422/422 [==============================] - 26s 62ms/step - loss: 1.5935 - accuracy: 0.8343 - val_loss: 1.7759 - val_accuracy: 0.8333\n",
            "Epoch 9/20\n",
            "422/422 [==============================] - 26s 62ms/step - loss: 1.5732 - accuracy: 0.8346 - val_loss: 1.7944 - val_accuracy: 0.8335\n",
            "Epoch 10/20\n",
            "422/422 [==============================] - 26s 62ms/step - loss: 1.5583 - accuracy: 0.8351 - val_loss: 1.8186 - val_accuracy: 0.8334\n",
            "Epoch 11/20\n",
            "422/422 [==============================] - 27s 63ms/step - loss: 1.5412 - accuracy: 0.8355 - val_loss: 1.8396 - val_accuracy: 0.8335\n",
            "Epoch 12/20\n",
            "422/422 [==============================] - 26s 62ms/step - loss: 1.5205 - accuracy: 0.8360 - val_loss: 1.8590 - val_accuracy: 0.8336\n",
            "Epoch 13/20\n",
            "422/422 [==============================] - 26s 62ms/step - loss: 1.4980 - accuracy: 0.8368 - val_loss: 1.9025 - val_accuracy: 0.8335\n",
            "Epoch 14/20\n",
            "422/422 [==============================] - 26s 62ms/step - loss: 1.4889 - accuracy: 0.8370 - val_loss: 1.9058 - val_accuracy: 0.8336\n",
            "Epoch 15/20\n",
            "422/422 [==============================] - 26s 62ms/step - loss: 1.4843 - accuracy: 0.8374 - val_loss: 1.9342 - val_accuracy: 0.8337\n",
            "Epoch 16/20\n",
            "422/422 [==============================] - 26s 63ms/step - loss: 1.4707 - accuracy: 0.8377 - val_loss: 1.9364 - val_accuracy: 0.8338\n",
            "Epoch 17/20\n",
            "422/422 [==============================] - 27s 63ms/step - loss: 1.4644 - accuracy: 0.8382 - val_loss: 1.9495 - val_accuracy: 0.8337\n",
            "Epoch 18/20\n",
            "422/422 [==============================] - 26s 63ms/step - loss: 1.4581 - accuracy: 0.8384 - val_loss: 1.9548 - val_accuracy: 0.8337\n",
            "Epoch 19/20\n",
            "422/422 [==============================] - 26s 63ms/step - loss: 1.4514 - accuracy: 0.8388 - val_loss: 1.9623 - val_accuracy: 0.8337\n",
            "Epoch 20/20\n",
            "422/422 [==============================] - 27s 63ms/step - loss: 1.4444 - accuracy: 0.8388 - val_loss: 1.9156 - val_accuracy: 0.8337\n"
          ],
          "name": "stdout"
        }
      ]
    },
    {
      "cell_type": "code",
      "metadata": {
        "id": "xD7Z8PqiAt1r",
        "outputId": "c75a0499-908d-424b-ca23-74258c6bc0ee",
        "colab": {
          "base_uri": "https://localhost:8080/",
          "height": 533
        }
      },
      "source": [
        "# Visualize the model\n",
        "# ? = None\n",
        "from keras.utils import plot_model\n",
        "plot_model(model, to_file=\"model_plot4a.png\", show_shapes=True, show_layer_names=True)"
      ],
      "execution_count": 23,
      "outputs": [
        {
          "output_type": "execute_result",
          "data": {
            "image/png": "[encoded data removed]",
            "text/plain": [
              "<IPython.core.display.Image object>"
            ]
          },
          "metadata": {
            "tags": []
          },
          "execution_count": 23
        }
      ]
    },
    {
      "cell_type": "markdown",
      "metadata": {
        "id": "--m4x9jwBJLE"
      },
      "source": [
        "**Modifying Model for Predictions**\n",
        "\n",
        "During training, the full output sequence is available, and the model is trained on these inputs and outputs.\n",
        "\n",
        "However, when making actual predictions, the decoder outputs have a probability of being correct.\n",
        "\n",
        "As such, the model must be modified to reflect this."
      ]
    },
    {
      "cell_type": "code",
      "metadata": {
        "id": "Ft6YlpQvDsad"
      },
      "source": [
        "# Encoder is the same\n",
        "encoder_model = Model(encoder_inputs_placeholder, encoder_states)"
      ],
      "execution_count": 34,
      "outputs": []
    },
    {
      "cell_type": "code",
      "metadata": {
        "id": "Ee4nTCHGD44G"
      },
      "source": [
        "# But now we need the decoder hidden and cell states\n",
        "decoder_state_input_h = Input(shape=(256, ))\n",
        "decoder_state_input_c = Input(shape=(256, ))\n",
        "decoder_states_inputs = [decoder_state_input_h, decoder_state_input_c]"
      ],
      "execution_count": 35,
      "outputs": []
    },
    {
      "cell_type": "code",
      "metadata": {
        "id": "oGlOEIiOEPg9"
      },
      "source": [
        "# Now there will only be one decoder input at each time step\n",
        "decoder_inputs_single = Input(shape=(1, ))\n",
        "decoder_inputs_single_x = decoder_embedding(decoder_inputs_single)"
      ],
      "execution_count": 36,
      "outputs": []
    },
    {
      "cell_type": "code",
      "metadata": {
        "id": "jriptw5jEZ_K"
      },
      "source": [
        "# Placeholder for decoder outputs\n",
        "decoder_outputs, h, c = decoder_lstm(decoder_inputs_single_x, initial_state=decoder_states_inputs)"
      ],
      "execution_count": 37,
      "outputs": []
    },
    {
      "cell_type": "code",
      "metadata": {
        "id": "LFmM5ZWGEjWT"
      },
      "source": [
        "# Pass decoder output through dense layer\n",
        "decoder_states = [h, c]\n",
        "decoder_outputs = decoder_dense(decoder_outputs)"
      ],
      "execution_count": 38,
      "outputs": []
    },
    {
      "cell_type": "code",
      "metadata": {
        "id": "xvU2oCKMErPu"
      },
      "source": [
        "# Define the overall model\n",
        "decoder_model = Model(\n",
        "    [decoder_inputs_single] + decoder_states_inputs,\n",
        "    [decoder_outputs] + decoder_states\n",
        ")"
      ],
      "execution_count": 39,
      "outputs": []
    },
    {
      "cell_type": "markdown",
      "metadata": {
        "id": "nE7fgT4oFkc_"
      },
      "source": [
        "Notice now that the input is only 1 word at a time, instead of the max_input_len 9-word sentence before."
      ]
    },
    {
      "cell_type": "code",
      "metadata": {
        "id": "yoATIzdPFbEX",
        "outputId": "559211b6-339d-4a66-f4e1-afa77bfb28ad",
        "colab": {
          "base_uri": "https://localhost:8080/",
          "height": 422
        }
      },
      "source": [
        "# Visualize\n",
        "plot_model(decoder_model, to_file=\"model_plot_dec.png\", show_shapes=True, show_layer_names=True)"
      ],
      "execution_count": 40,
      "outputs": [
        {
          "output_type": "execute_result",
          "data": {
            "image/png": "[encoded data removed]",
            "text/plain": [
              "<IPython.core.display.Image object>"
            ]
          },
          "metadata": {
            "tags": []
          },
          "execution_count": 40
        }
      ]
    },
    {
      "cell_type": "markdown",
      "metadata": {
        "id": "qKo6ncTiF5Ph"
      },
      "source": [
        "**Make Predictions**"
      ]
    },
    {
      "cell_type": "code",
      "metadata": {
        "id": "UyujrjBqF66h"
      },
      "source": [
        "# Create dictionaries for inputs and outputs (English and Japanese)\n",
        "idx2word_input = {v:k for k, v in word2idx_inputs.items()}\n",
        "idx2word_target = {v:k for k, v in word2idx_outputs.items()}"
      ],
      "execution_count": 41,
      "outputs": []
    },
    {
      "cell_type": "code",
      "metadata": {
        "id": "k_54s7sjGO9h"
      },
      "source": [
        "# Function that takes a padded English sentence (integer form) \n",
        "# Returns it translated into Japanese\n",
        "def translate(input_sequence):\n",
        "  states_value = encoder_model.predict(input_sequence)\n",
        "  target_sequence = np.zeros((1, 1))\n",
        "  target_sequence[0, 0] = word2idx_outputs[\"<sos>\"]\n",
        "  eos = word2idx_outputs[\"<eos>\"] # Index of <eos> to indicate end of translation\n",
        "  output_sentence = []\n",
        "\n",
        "  for i in range(max_output_len):\n",
        "    output_tokens, h, c = decoder_model.predict([target_sequence] + states_value)\n",
        "    idx = np.argmax(output_tokens[0, 0, :])\n",
        "\n",
        "    if eos == idx:\n",
        "      break\n",
        "    \n",
        "    word = \"\"\n",
        "\n",
        "    if idx > 0:\n",
        "      word = idx2word_target[idx]\n",
        "      output_sentence.append(word)\n",
        "\n",
        "    target_sequence[0, 0] = idx\n",
        "    states_value = [h, c]\n",
        "\n",
        "  return \" \".join(output_sentence)"
      ],
      "execution_count": 42,
      "outputs": []
    },
    {
      "cell_type": "code",
      "metadata": {
        "id": "T-7e_WoDHhgh",
        "outputId": "1b11c716-6820-4946-f269-838097c02ba3",
        "colab": {
          "base_uri": "https://localhost:8080/"
        }
      },
      "source": [
        "# Translate 10 random sentences from the dataset\n",
        "import random\n",
        "\n",
        "k = 0\n",
        "for k in range(10):\n",
        "  i = np.random.choice(len(input_sentences))\n",
        "  input_sequence = encoder_input_sequences[i:i+1]\n",
        "  translation = translate(input_sequence)\n",
        "  print(\"Input: \" + input_sentences[i])\n",
        "  print(\"Translation: \" + translation)\n",
        "  print(\"Actual Translation: \" + output_sentences[i].replace(\" <EOS>\", \"\"))\n",
        "  print()\n",
        "  k += 1"
      ],
      "execution_count": 104,
      "outputs": [
        {
          "output_type": "stream",
          "text": [
            "Input: Tom is a buddy of mine.\n",
            "Translation: トムは私の友人です。\n",
            "Actual Translation: トムは私の友人です。\n",
            "\n",
            "Input: That's why we got divorced.\n",
            "Translation: 誰も死ななかった。\n",
            "Actual Translation: そういうわけで、私たち離婚したんです。\n",
            "\n",
            "Input: He kept singing.\n",
            "Translation: 彼は歌いつづけた。\n",
            "Actual Translation: 彼は歌いつづけた。\n",
            "\n",
            "Input: Tom loves Australia.\n",
            "Translation: トムはいません。\n",
            "Actual Translation: トムはオーストラリアが大好きだ。\n",
            "\n",
            "Input: I'm no liar.\n",
            "Translation: 超腹減った。\n",
            "Actual Translation: 私、嘘つきじゃないもん。\n",
            "\n",
            "Input: Tom is right behind me.\n",
            "Translation: トムはフランス語が上手い。\n",
            "Actual Translation: トムは私のすぐ後ろにいます。\n",
            "\n",
            "Input: Let's try again.\n",
            "Translation: もう一回やってみよう。\n",
            "Actual Translation: もう一回やってみよう。\n",
            "\n",
            "Input: I did it.\n",
            "Translation: そろそろおいとましなければなりません。\n",
            "Actual Translation: やってやった。\n",
            "\n",
            "Input: Let me know.\n",
            "Translation: お前には関係ない。\n",
            "Actual Translation: ご一報ください。\n",
            "\n",
            "Input: Close the door, please.\n",
            "Translation: ドアを閉めて下さい。\n",
            "Actual Translation: ドアを閉めて下さい。\n",
            "\n"
          ],
          "name": "stdout"
        }
      ]
    }
  ]
}